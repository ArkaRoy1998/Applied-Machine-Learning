{
 "cells": [
  {
   "cell_type": "markdown",
   "id": "638f017b-a4a0-4fbc-9fb7-a26ccf8e594e",
   "metadata": {},
   "source": [
    "### Arka Roy- MDS202311\n",
    "\n",
    "### Train.ipynb"
   ]
  },
  {
   "cell_type": "markdown",
   "id": "bbedbe4f-4174-437f-af78-ca1a6233ddb4",
   "metadata": {},
   "source": [
    "## Importing necessary libraries"
   ]
  },
  {
   "cell_type": "code",
   "execution_count": 1,
   "id": "25394a23-adc4-45f4-9d04-5ff77da31f61",
   "metadata": {},
   "outputs": [],
   "source": [
    "import pandas as pd\n",
    "from sklearn.pipeline import Pipeline\n",
    "from sklearn.feature_extraction.text import TfidfVectorizer\n",
    "from sklearn.metrics import accuracy_score, classification_report, confusion_matrix\n",
    "from sklearn.model_selection import GridSearchCV\n",
    "from sklearn.naive_bayes import MultinomialNB\n",
    "from sklearn.linear_model import LogisticRegression\n",
    "from sklearn.svm import SVC\n"
   ]
  },
  {
   "cell_type": "markdown",
   "id": "9787d42a-f1c5-4ca7-98b8-1548d884b6c4",
   "metadata": {},
   "source": [
    "### Function to load csv data"
   ]
  },
  {
   "cell_type": "code",
   "execution_count": 2,
   "id": "d78f0d1d-c8d1-423e-8dd3-fa6636914026",
   "metadata": {},
   "outputs": [],
   "source": [
    "# Function to load CSV data \n",
    "def load_csv_data(file_path: str) -> pd.DataFrame:\n",
    "    if not os.path.exists(file_path):\n",
    "        print(f\"Error: File not found at {file_path}\")\n",
    "        return None\n",
    "    try:\n",
    "        df = pd.read_csv(file_path)\n",
    "        print(f\"Loaded dataset: {file_path} with {df.shape[0]} rows and {df.shape[1]} columns.\")\n",
    "        return df\n",
    "    except Exception as e:\n",
    "        print(f\"Error loading dataset {file_path}: {e}\")\n",
    "        return None"
   ]
  },
  {
   "cell_type": "markdown",
   "id": "87446c06-79bd-484f-bf74-a68351cacf52",
   "metadata": {},
   "source": [
    "### Function to extract features and labels"
   ]
  },
  {
   "cell_type": "code",
   "execution_count": 3,
   "id": "3238699b-8d74-4f44-bceb-fc804c71d0ba",
   "metadata": {},
   "outputs": [],
   "source": [
    "# Function to extract features and labels\n",
    "def prepare_features_labels(df: pd.DataFrame, feature_col: str = \"message\", label_col: str = \"label\"):\n",
    "    return df[feature_col], df[label_col]"
   ]
  },
  {
   "cell_type": "markdown",
   "id": "940b4c7e-15d7-466c-bdf3-242f1fa10a00",
   "metadata": {},
   "source": [
    "### Function to train a model"
   ]
  },
  {
   "cell_type": "code",
   "execution_count": 4,
   "id": "82c12eff-9dbf-4505-9e7c-47e10d746c19",
   "metadata": {},
   "outputs": [],
   "source": [
    "# Function to train a model\n",
    "def fit_model(model, X_train, y_train):\n",
    "    model.fit(X_train, y_train)\n",
    "    return model"
   ]
  },
  {
   "cell_type": "markdown",
   "id": "ce083a9b-37e1-4717-b773-551e31f38871",
   "metadata": {},
   "source": [
    "### Function to evaluate predictions"
   ]
  },
  {
   "cell_type": "code",
   "execution_count": 5,
   "id": "228e7040-b84e-439a-9f8b-f2fea2eb703b",
   "metadata": {},
   "outputs": [],
   "source": [
    "# Function to evaluate predictions\n",
    "def evaluate_model_predictions(y_true, y_pred, title: str = \"\"):\n",
    "    print(f\"\\n=== Evaluation: {title} ===\")\n",
    "    print(\"Accuracy:\", accuracy_score(y_true, y_pred))\n",
    "    print(\"Classification Report:\\n\", classification_report(y_true, y_pred))\n",
    "    print(\"Confusion Matrix:\\n\", confusion_matrix(y_true, y_pred))"
   ]
  },
  {
   "cell_type": "markdown",
   "id": "e79169e8-bcc1-49e5-b774-b82c23907a8b",
   "metadata": {},
   "source": [
    "### Function to train and evaluate models"
   ]
  },
  {
   "cell_type": "code",
   "execution_count": 6,
   "id": "d3f0d5a3-7330-4b0d-9a58-7bdf288cbc3f",
   "metadata": {},
   "outputs": [],
   "source": [
    "# Function to train and evaluate models\n",
    "def train_and_evaluate(model, X_train, y_train, X_val, y_val):\n",
    "    model = fit_model(model, X_train, y_train)\n",
    "\n",
    "    # Predictions\n",
    "    y_train_pred = model.predict(X_train)\n",
    "    y_val_pred = model.predict(X_val)\n",
    "\n",
    "    print(f\"\\n=== Model: {type(model.steps[-1][1]).__name__} ===\")\n",
    "    \n",
    "    print(\"--- Train Evaluation ---\")\n",
    "    evaluate_model_predictions(y_train, y_train_pred, title=\"Train\")\n",
    "\n",
    "    print(\"--- Validation Evaluation ---\")\n",
    "    evaluate_model_predictions(y_val, y_val_pred, title=\"Validation\")\n",
    "\n",
    "    return model\n"
   ]
  },
  {
   "cell_type": "markdown",
   "id": "3257c7ee-7cae-488d-864f-ea6acfa98268",
   "metadata": {},
   "source": [
    "### Function to compare models on test set"
   ]
  },
  {
   "cell_type": "code",
   "execution_count": 7,
   "id": "9fa07814-5432-4589-a200-47892b1605e8",
   "metadata": {},
   "outputs": [],
   "source": [
    "# Function to compare models on test set\n",
    "def score_benchmark_models_on_test(models, X_test, y_test):\n",
    "    best_model_name = None\n",
    "    best_accuracy = 0.0\n",
    "\n",
    "    for model_name, model in models.items():\n",
    "        y_pred = model.predict(X_test)\n",
    "        test_acc = accuracy_score(y_test, y_pred)\n",
    "\n",
    "        print(f\"\\n=== {model_name.upper()} on Test Set ===\")\n",
    "        print(\"Test Accuracy:\", test_acc)\n",
    "        print(\"Classification Report:\\n\", classification_report(y_test, y_pred))\n",
    "        print(\"Confusion Matrix:\\n\", confusion_matrix(y_test, y_pred))\n",
    "\n",
    "        if test_acc > best_accuracy:\n",
    "            best_accuracy = test_acc\n",
    "            best_model_name = model_name\n",
    "\n",
    "    print(f\"\\nBest model on Test Set: {best_model_name} with accuracy={best_accuracy:.4f}\")\n",
    "    return best_model_name, best_accuracy"
   ]
  },
  {
   "cell_type": "markdown",
   "id": "d36e4335-6b03-4c3b-8bfa-4a407b258956",
   "metadata": {},
   "source": [
    "### Main Workflow"
   ]
  },
  {
   "cell_type": "code",
   "execution_count": 10,
   "id": "69b93499-ff6f-43a8-aedf-53c4bcba0e15",
   "metadata": {},
   "outputs": [
    {
     "name": "stdout",
     "output_type": "stream",
     "text": [
      "Loaded dataset: /Users/arkaroy/Downloads/sms+spam+collection/data_splits/train.csv with 4457 rows and 2 columns.\n",
      "Loaded dataset: /Users/arkaroy/Downloads/sms+spam+collection/data_splits/validation.csv with 557 rows and 2 columns.\n",
      "Loaded dataset: /Users/arkaroy/Downloads/sms+spam+collection/data_splits/test.csv with 558 rows and 2 columns.\n",
      "Train dataset after removing NaNs: 4452 rows\n",
      "Validation dataset after removing NaNs: 557 rows\n",
      "Test dataset after removing NaNs: 557 rows\n",
      "\n",
      "========== Train & Evaluate: NAIVE_BAYES ==========\n",
      "\n",
      "========== Train & Evaluate: LOG_REG ==========\n",
      "\n",
      "========== Train & Evaluate: SVM ==========\n",
      "\n",
      "=== NAIVE_BAYES on Test Set ===\n",
      "Test Accuracy: 0.9658886894075404\n",
      "Classification Report:\n",
      "               precision    recall  f1-score   support\n",
      "\n",
      "           0       0.96      1.00      0.98       482\n",
      "           1       1.00      0.75      0.85        75\n",
      "\n",
      "    accuracy                           0.97       557\n",
      "   macro avg       0.98      0.87      0.92       557\n",
      "weighted avg       0.97      0.97      0.96       557\n",
      "\n",
      "Confusion Matrix:\n",
      " [[482   0]\n",
      " [ 19  56]]\n",
      "\n",
      "=== LOG_REG on Test Set ===\n",
      "Test Accuracy: 0.9694793536804309\n",
      "Classification Report:\n",
      "               precision    recall  f1-score   support\n",
      "\n",
      "           0       0.97      1.00      0.98       482\n",
      "           1       1.00      0.77      0.87        75\n",
      "\n",
      "    accuracy                           0.97       557\n",
      "   macro avg       0.98      0.89      0.93       557\n",
      "weighted avg       0.97      0.97      0.97       557\n",
      "\n",
      "Confusion Matrix:\n",
      " [[482   0]\n",
      " [ 17  58]]\n",
      "\n",
      "=== SVM on Test Set ===\n",
      "Test Accuracy: 0.9784560143626571\n",
      "Classification Report:\n",
      "               precision    recall  f1-score   support\n",
      "\n",
      "           0       0.98      1.00      0.99       482\n",
      "           1       1.00      0.84      0.91        75\n",
      "\n",
      "    accuracy                           0.98       557\n",
      "   macro avg       0.99      0.92      0.95       557\n",
      "weighted avg       0.98      0.98      0.98       557\n",
      "\n",
      "Confusion Matrix:\n",
      " [[482   0]\n",
      " [ 12  63]]\n",
      "\n",
      "Best model on Test Set: svm with accuracy=0.9785\n",
      "\n",
      "=== Best model on Test is 'svm' with accuracy=0.9785 ===\n"
     ]
    }
   ],
   "source": [
    "import os\n",
    "if __name__ == \"__main__\":\n",
    "    # Correct file paths\n",
    "    data_directory = \"/Users/arkaroy/Downloads/sms+spam+collection/data_splits\"\n",
    "    \n",
    "    train_file = os.path.join(data_directory, \"train.csv\")\n",
    "    val_file = os.path.join(data_directory, \"validation.csv\")  # Corrected filename\n",
    "    test_file = os.path.join(data_directory, \"test.csv\")\n",
    "\n",
    "    # Load datasets\n",
    "    train_df = load_csv_data(train_file)\n",
    "    val_df = load_csv_data(val_file)\n",
    "    test_df = load_csv_data(test_file)\n",
    "\n",
    "\n",
    "    # Drop missing messages safely\n",
    "    for df, name in zip([train_df, val_df, test_df], [\"Train\", \"Validation\", \"Test\"]):\n",
    "        if \"message\" in df.columns:\n",
    "            df.dropna(subset=[\"message\"], inplace=True)\n",
    "            print(f\"{name} dataset after removing NaNs: {df.shape[0]} rows\")\n",
    "        else:\n",
    "            print(f\"Error: Column 'message' not found in {name} dataset.\")\n",
    "            exit()\n",
    "\n",
    "    # Prepare features and labels\n",
    "    def prepare_features_labels(df, feature_col=\"message\", label_col=\"label\"):\n",
    "        return df[feature_col], df[label_col]\n",
    "\n",
    "    X_train, y_train = prepare_features_labels(train_df)\n",
    "    X_val, y_val = prepare_features_labels(val_df)\n",
    "    X_test, y_test = prepare_features_labels(test_df)\n",
    "\n",
    "    # Define models\n",
    "    models = {\n",
    "        \"naive_bayes\": Pipeline([(\"tfidf\", TfidfVectorizer()), (\"clf\", MultinomialNB())]),\n",
    "        \"log_reg\": Pipeline([(\"tfidf\", TfidfVectorizer()), (\"clf\", LogisticRegression(max_iter=1000))]),\n",
    "        \"svm\": Pipeline([(\"tfidf\", TfidfVectorizer()), (\"clf\", SVC())])\n",
    "    }\n",
    "\n",
    "    # Train and evaluate models\n",
    "    trained_models = {}\n",
    "    for model_name, pipeline in models.items():\n",
    "        print(f\"\\n========== Train & Evaluate: {model_name.upper()} ==========\")\n",
    "        pipeline.fit(X_train, y_train)\n",
    "        trained_models[model_name] = pipeline\n",
    "\n",
    "    # Test evaluation function\n",
    "    def score_benchmark_models_on_test(models, X_test, y_test):\n",
    "        best_model_name = None\n",
    "        best_accuracy = 0.0\n",
    "\n",
    "        for model_name, model in models.items():\n",
    "            y_pred = model.predict(X_test)\n",
    "            test_acc = accuracy_score(y_test, y_pred)\n",
    "\n",
    "            print(f\"\\n=== {model_name.upper()} on Test Set ===\")\n",
    "            print(\"Test Accuracy:\", test_acc)\n",
    "            print(\"Classification Report:\\n\", classification_report(y_test, y_pred))\n",
    "            print(\"Confusion Matrix:\\n\", confusion_matrix(y_test, y_pred))\n",
    "\n",
    "            if test_acc > best_accuracy:\n",
    "                best_accuracy = test_acc\n",
    "                best_model_name = model_name\n",
    "\n",
    "        print(f\"\\nBest model on Test Set: {best_model_name} with accuracy={best_accuracy:.4f}\")\n",
    "        return best_model_name, best_accuracy\n",
    "\n",
    "    # Run evaluation\n",
    "    best_model_name, best_test_acc = score_benchmark_models_on_test(trained_models, X_test, y_test)\n",
    "\n",
    "    print(f\"\\n=== Best model on Test is '{best_model_name}' with accuracy={best_test_acc:.4f} ===\")\n"
   ]
  },
  {
   "cell_type": "code",
   "execution_count": null,
   "id": "56459ae9-e2b3-4213-bd65-73f7e6323e44",
   "metadata": {},
   "outputs": [],
   "source": []
  }
 ],
 "metadata": {
  "kernelspec": {
   "display_name": "Python 3 (ipykernel)",
   "language": "python",
   "name": "python3"
  },
  "language_info": {
   "codemirror_mode": {
    "name": "ipython",
    "version": 3
   },
   "file_extension": ".py",
   "mimetype": "text/x-python",
   "name": "python",
   "nbconvert_exporter": "python",
   "pygments_lexer": "ipython3",
   "version": "3.11.10"
  }
 },
 "nbformat": 4,
 "nbformat_minor": 5
}
