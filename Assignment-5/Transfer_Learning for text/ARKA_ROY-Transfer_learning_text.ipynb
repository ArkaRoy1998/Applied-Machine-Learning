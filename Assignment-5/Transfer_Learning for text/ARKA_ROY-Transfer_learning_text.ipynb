{
 "cells": [
  {
   "cell_type": "markdown",
   "id": "711a3bfb",
   "metadata": {},
   "source": [
    "# Sentiment Analysis with **BERT** – Improved Approach\n",
    "Building upon the baseline, this notebook keeps the **BERT** backbone while\n",
    "introducing better data handling, stratified validation, class‑imbalance compensation,\n",
    "learning‑rate scheduling, early stopping and richer evaluation metrics to boost\n",
    "accuracy, precision and recall.\n",
    "\n",
    "> **Note**: Adjust the data paths to your environment if necessary."
   ]
  },
  {
   "cell_type": "code",
   "execution_count": 11,
   "id": "0ffa9211",
   "metadata": {},
   "outputs": [
    {
     "name": "stdout",
     "output_type": "stream",
     "text": [
      "Requirement already satisfied: transformers in /opt/anaconda3/envs/Base_2/lib/python3.11/site-packages (4.51.3)\n",
      "Requirement already satisfied: filelock in /opt/anaconda3/envs/Base_2/lib/python3.11/site-packages (from transformers) (3.16.1)\n",
      "Requirement already satisfied: huggingface-hub<1.0,>=0.30.0 in /opt/anaconda3/envs/Base_2/lib/python3.11/site-packages (from transformers) (0.30.2)\n",
      "Requirement already satisfied: numpy>=1.17 in /opt/anaconda3/envs/Base_2/lib/python3.11/site-packages (from transformers) (2.0.2)\n",
      "Requirement already satisfied: packaging>=20.0 in /opt/anaconda3/envs/Base_2/lib/python3.11/site-packages (from transformers) (24.1)\n",
      "Requirement already satisfied: pyyaml>=5.1 in /opt/anaconda3/envs/Base_2/lib/python3.11/site-packages (from transformers) (6.0.2)\n",
      "Requirement already satisfied: regex!=2019.12.17 in /opt/anaconda3/envs/Base_2/lib/python3.11/site-packages (from transformers) (2024.9.11)\n",
      "Requirement already satisfied: requests in /opt/anaconda3/envs/Base_2/lib/python3.11/site-packages (from transformers) (2.32.3)\n",
      "Requirement already satisfied: tokenizers<0.22,>=0.21 in /opt/anaconda3/envs/Base_2/lib/python3.11/site-packages (from transformers) (0.21.0)\n",
      "Requirement already satisfied: safetensors>=0.4.3 in /opt/anaconda3/envs/Base_2/lib/python3.11/site-packages (from transformers) (0.4.5)\n",
      "Requirement already satisfied: tqdm>=4.27 in /opt/anaconda3/envs/Base_2/lib/python3.11/site-packages (from transformers) (4.66.6)\n",
      "Requirement already satisfied: fsspec>=2023.5.0 in /opt/anaconda3/envs/Base_2/lib/python3.11/site-packages (from huggingface-hub<1.0,>=0.30.0->transformers) (2024.9.0)\n",
      "Requirement already satisfied: typing-extensions>=3.7.4.3 in /opt/anaconda3/envs/Base_2/lib/python3.11/site-packages (from huggingface-hub<1.0,>=0.30.0->transformers) (4.12.2)\n",
      "Requirement already satisfied: charset-normalizer<4,>=2 in /opt/anaconda3/envs/Base_2/lib/python3.11/site-packages (from requests->transformers) (3.4.0)\n",
      "Requirement already satisfied: idna<4,>=2.5 in /opt/anaconda3/envs/Base_2/lib/python3.11/site-packages (from requests->transformers) (3.10)\n",
      "Requirement already satisfied: urllib3<3,>=1.21.1 in /opt/anaconda3/envs/Base_2/lib/python3.11/site-packages (from requests->transformers) (2.2.3)\n",
      "Requirement already satisfied: certifi>=2017.4.17 in /opt/anaconda3/envs/Base_2/lib/python3.11/site-packages (from requests->transformers) (2024.8.30)\n"
     ]
    }
   ],
   "source": [
    "\n",
    "!pip install -q transformers datasets accelerate -U\n",
    "\n",
    "!pip install -U transformers\n",
    "\n"
   ]
  },
  {
   "cell_type": "markdown",
   "id": "23936455-dde8-4e31-999f-c3cbe140f714",
   "metadata": {},
   "source": [
    "## Importing necessary libraries"
   ]
  },
  {
   "cell_type": "code",
   "execution_count": 12,
   "id": "460b8e31",
   "metadata": {},
   "outputs": [
    {
     "name": "stdout",
     "output_type": "stream",
     "text": [
      "Using device: mps\n"
     ]
    }
   ],
   "source": [
    "\n",
    "import os, random, numpy as np, pandas as pd, torch\n",
    "from pathlib import Path\n",
    "from sklearn.model_selection import train_test_split\n",
    "from sklearn.metrics import accuracy_score, precision_recall_fscore_support, classification_report, confusion_matrix\n",
    "import seaborn as sns, matplotlib.pyplot as plt\n",
    "\n",
    "from transformers import (AutoTokenizer, AutoModelForSequenceClassification,\n",
    "                          DataCollatorWithPadding, Trainer, TrainingArguments,\n",
    "                          EarlyStoppingCallback, get_linear_schedule_with_warmup, set_seed)\n",
    "\n",
    "device = torch.device(\"mps\" if torch.backends.mps.is_available() else \"cpu\")\n",
    "print(\"Using device:\", device)\n",
    "\n",
    "SEED = 42\n",
    "set_seed(SEED)\n"
   ]
  },
  {
   "cell_type": "markdown",
   "id": "da3e8ae1-f5bc-4f7c-83c9-506c7b86dc60",
   "metadata": {},
   "source": [
    "## Importing the raw data "
   ]
  },
  {
   "cell_type": "code",
   "execution_count": 13,
   "id": "4818a74e",
   "metadata": {},
   "outputs": [
    {
     "name": "stdout",
     "output_type": "stream",
     "text": [
      "Class distribution:\n",
      "label\n",
      "1    11117\n",
      "2     8582\n",
      "0     7781\n",
      "Name: count, dtype: int64\n"
     ]
    }
   ],
   "source": [
    "\n",
    "DATA_DIR = Path('/Users/arkaroy/Downloads/AML-SentimentAnalysisdata')  # change if needed\n",
    "train_file = DATA_DIR / 'train.csv'\n",
    "test_file  = DATA_DIR / 'test.csv'\n",
    "\n",
    "df_train = pd.read_csv(train_file, encoding='latin1')\n",
    "df_test  = pd.read_csv(test_file,  encoding='latin1')\n",
    "\n",
    "df_train = df_train.dropna(subset=['text','sentiment'])\n",
    "df_test  = df_test.dropna(subset=['text','sentiment'])\n",
    "\n",
    "label_map = {'negative':0, 'neutral':1, 'positive':2}\n",
    "df_train['label'] = df_train['sentiment'].map(label_map)\n",
    "df_test['label']  = df_test['sentiment'].map(label_map)\n",
    "\n",
    "print('Class distribution:')\n",
    "print(df_train['label'].value_counts())\n"
   ]
  },
  {
   "cell_type": "markdown",
   "id": "8db88e4d-2f33-434e-b1ab-489a3033dc3e",
   "metadata": {},
   "source": [
    "## Splitting the data"
   ]
  },
  {
   "cell_type": "code",
   "execution_count": 14,
   "id": "82f70c75",
   "metadata": {},
   "outputs": [
    {
     "name": "stdout",
     "output_type": "stream",
     "text": [
      "Train size: 24732 | Val size: 2748\n"
     ]
    }
   ],
   "source": [
    "\n",
    "train_df, val_df = train_test_split(\n",
    "    df_train, test_size=0.1, random_state=SEED, stratify=df_train['label'])\n",
    "print(f\"Train size: {len(train_df)} | Val size: {len(val_df)}\")\n"
   ]
  },
  {
   "cell_type": "markdown",
   "id": "a75eacf3-df72-440e-b1f0-5464cff05c7e",
   "metadata": {},
   "source": [
    "\n",
    "## Why we need this class\n",
    "\n",
    "It converts each sentence and its sentiment tag into the tensor bundle that BERT understands, so training just works.\n",
    "\n",
    "## What happens inside\n",
    "\n",
    "1. **Keep the basics**  \n",
    "   - Store the sentences, their labels, the BERT tokenizer, and the maximum length we'll allow (128 tokens by default).\n",
    "\n",
    "2. **Tell PyTorch how big it is**  \n",
    "   - `__len__` reports how many samples we have.\n",
    "\n",
    "3. **Build one sample on the fly**  \n",
    "   - `__getitem__(idx)`:\n",
    "     - grabs sentence `idx`,\n",
    "     - runs the tokenizer (adds special tokens, trims or pads, creates an attention mask),\n",
    "     - turns the label into a tensor,\n",
    "     - returns a tidy dictionary with `input_ids`, `attention_mask`, and `labels`.\n",
    "\n",
    "4. **Usage**  \n",
    "   Feed this class to a `DataLoader` and you can train or evaluate the model immediately."
   ]
  },
  {
   "cell_type": "code",
   "execution_count": 39,
   "id": "8c5d44d8",
   "metadata": {},
   "outputs": [],
   "source": [
    "class SentimentDataset(torch.utils.data.Dataset):\n",
    "    def __init__(self, texts, labels, tokenizer, max_len=128):\n",
    "        self.texts = list(texts)  # Stored as self.texts\n",
    "        self.labels = list(labels)\n",
    "        self.tokenizer = tokenizer\n",
    "        self.max_len = max_len\n",
    "\n",
    "    def __len__(self):\n",
    "        return len(self.texts)\n",
    "\n",
    "    def __getitem__(self, idx):\n",
    "        text = self.texts[idx]  # Changed from self.sentences to self.texts\n",
    "        label = self.labels[idx]\n",
    "    \n",
    "        # Tokenize the text\n",
    "        encoding = self.tokenizer(\n",
    "            text,\n",
    "            max_length=self.max_len,\n",
    "            padding='max_length',\n",
    "            truncation=True,\n",
    "            return_tensors='pt'\n",
    "        )\n",
    "    \n",
    "        return {\n",
    "            'input_ids': encoding['input_ids'].flatten(),\n",
    "            'attention_mask': encoding['attention_mask'].flatten(),\n",
    "            'labels': torch.tensor(label, dtype=torch.long)\n",
    "        }"
   ]
  },
  {
   "cell_type": "markdown",
   "id": "df0a1fde-aad7-476c-ad26-6f166776c968",
   "metadata": {},
   "source": [
    "### BERT Tokenization & Dataset Preparation  \n",
    "\n",
    "This code snippet:  \n",
    "\n",
    "1. **Loads the BERT tokenizer**  \n",
    "   - Uses `'bert-base-uncased'` (lowercase English model) via Hugging Face’s `AutoTokenizer`.  \n",
    "\n",
    "2. **Creates PyTorch-compatible datasets**  \n",
    "   - Wraps training (`train_df`), validation (`val_df`), and test (`df_test`) data into `SentimentDataset` objects.  \n",
    "   - Each dataset:  \n",
    "     - Takes raw text + labels,  \n",
    "     - Uses the BERT tokenizer to convert text into input IDs, attention masks, etc.  \n",
    "\n",
    "3. **Sets up dynamic padding**  \n",
    "   - `DataCollatorWithPadding` ensures batches are padded to the longest sequence in the batch (efficient memory usage).  \n",
    "\n",
    "→ **Output**: Ready-to-use datasets for training/evaluating a BERT-based sentiment model.  "
   ]
  },
  {
   "cell_type": "code",
   "execution_count": 40,
   "id": "1b9cec7c",
   "metadata": {},
   "outputs": [],
   "source": [
    "\n",
    "model_name = 'bert-base-uncased'  # keep the BERT backbone\n",
    "tokenizer = AutoTokenizer.from_pretrained(model_name)\n",
    "\n",
    "train_ds = SentimentDataset(train_df['text'], train_df['label'], tokenizer)\n",
    "val_ds   = SentimentDataset(val_df['text'],   val_df['label'],   tokenizer)\n",
    "test_ds  = SentimentDataset(df_test['text'],  df_test['label'],  tokenizer)\n",
    "\n",
    "data_collator = DataCollatorWithPadding(tokenizer)\n"
   ]
  },
  {
   "cell_type": "markdown",
   "id": "f8065885-395c-45cc-9d79-82104a3d0bdd",
   "metadata": {},
   "source": [
    "### Evaluation Metrics Computation  \n",
    "\n",
    "This function calculates model performance metrics during validation/testing:  \n",
    "\n",
    "1. **Input**:  \n",
    "   - `eval_pred`: A tuple containing:  \n",
    "     - `logits` (model's raw predictions),  \n",
    "     - `true_labels` (ground truth labels).  \n",
    "\n",
    "2. **Steps**:  \n",
    "   - **Predictions**: Converts logits to class labels (`argmax`).  \n",
    "   - **Accuracy**: Measures overall correctness (`accuracy_score`).  \n",
    "   - **Precision/Recall/F1**: Computes weighted averages (accounts for class imbalance, with `zero_division=0` for safety).  \n",
    "\n",
    "3. **Output**:  \n",
    "   Returns a dictionary with:  \n",
    "   ```python\n",
    "   {\n",
    "       'accuracy':  # % of correct predictions  \n",
    "       'precision':  # True positives / (True + False positives)  \n",
    "       'recall':   # True positives / All actual positives  \n",
    "       'f1':       # Harmonic mean of precision and recall  \n",
    "   }"
   ]
  },
  {
   "cell_type": "code",
   "execution_count": 41,
   "id": "8316f698",
   "metadata": {},
   "outputs": [],
   "source": [
    "\n",
    "def compute_metrics(eval_pred):\n",
    "    logits, labels = eval_pred\n",
    "    preds = logits.argmax(axis=-1)\n",
    "    acc = accuracy_score(labels, preds)\n",
    "    prec, rec, f1, _ = precision_recall_fscore_support(\n",
    "        labels, preds, average='weighted', zero_division=0)\n",
    "    return {'accuracy': acc, 'precision': prec, 'recall': rec, 'f1': f1}\n"
   ]
  },
  {
   "cell_type": "markdown",
   "id": "f5900c80-8db9-47a7-8f80-083e8e545989",
   "metadata": {},
   "source": [
    "# BERT Model Setup with Class Balancing\n",
    "\n",
    "## What this code does:\n",
    "\n",
    "1. **Calculates class weights** to handle imbalanced data:\n",
    "   - Counts how many examples exist for each sentiment class (e.g., positive, neutral, negative)\n",
    "   - Gives more weight to rare classes so the model pays more attention to them\n",
    "\n",
    "2. **Loads a pretrained BERT model** ready for classification:\n",
    "   - Uses the standard 'bert-base-uncased' model\n",
    "   - Sets it up for 3-class classification (like positive/neutral/negative)\n",
    "\n",
    "3. **Modifies the model** to use these weights:\n",
    "   - Changes how the model calculates mistakes during training\n",
    "   - Makes mistakes on rare classes \"cost more\" so the model learns them better\n",
    "\n",
    "## Why this matters:\n",
    "- Fixes the \"unfairness\" when some sentiment classes appear less often in your data\n",
    "- Helps the model perform equally well on all sentiment types, not just the common ones\n",
    "\n",
    "## Example output:\n",
    "### Class weights: [0.2, 0.3, 0.5] # The model will care most about class 3\n",
    "\n",
    "## When to use this:\n",
    "- When your sentiment data has uneven classes (e.g., 80% positive, 15% negative, 5% neutral)\n",
    "- When you want to improve performance on rare sentiment categories"
   ]
  },
  {
   "cell_type": "code",
   "execution_count": 42,
   "id": "542420e8",
   "metadata": {},
   "outputs": [
    {
     "name": "stdout",
     "output_type": "stream",
     "text": [
      "Class weights: tensor([0.3836, 0.2685, 0.3478], device='mps:0')\n"
     ]
    },
    {
     "name": "stderr",
     "output_type": "stream",
     "text": [
      "Some weights of BertForSequenceClassification were not initialized from the model checkpoint at bert-base-uncased and are newly initialized: ['classifier.bias', 'classifier.weight']\n",
      "You should probably TRAIN this model on a down-stream task to be able to use it for predictions and inference.\n"
     ]
    }
   ],
   "source": [
    "\n",
    "cls_counts = train_df['label'].value_counts().sort_index()\n",
    "weights = (1/cls_counts).to_numpy()\n",
    "weights = weights / weights.sum()\n",
    "class_weights = torch.tensor(weights, dtype=torch.float).to(device)\n",
    "print('Class weights:', class_weights)\n",
    "\n",
    "model = AutoModelForSequenceClassification.from_pretrained(\n",
    "    model_name,\n",
    "    num_labels=3,\n",
    "    problem_type='single_label_classification'\n",
    ").to(device)\n",
    "\n",
    "# Override forward to plug weighted loss\n",
    "#from torch.nn import CrossEntropyLoss\n",
    "#orig_forward = model.forward\n",
    "# def new_forward(**kwargs):\n",
    "#     outputs = orig_forward(**kwargs, output_hidden_states=False)\n",
    "#     logits = outputs.logits\n",
    "#     labels = kwargs.get('labels')\n",
    "#     if labels is not None:\n",
    "#         loss_fct = CrossEntropyLoss(weight=class_weights)\n",
    "#         loss = loss_fct(logits, labels)\n",
    "#         outputs = (loss, logits) + outputs[2:]\n",
    "#         outputs = type(outputs)(loss=loss, logits=logits)\n",
    "#     return outputs\n",
    "# model.forward = new_forward\n"
   ]
  },
  {
   "cell_type": "markdown",
   "id": "22f34a31-f311-4ba0-93ec-f95bf885979a",
   "metadata": {},
   "source": [
    "# Training Setup for BERT Sentiment Model\n",
    "\n",
    "## What this code does:\n",
    "\n",
    "1. **Sets up training rules** for the BERT model:\n",
    "   - Trains for `4` passes through the data (epochs)\n",
    "   - Uses `16` examples at a time (batch size)\n",
    "   - Saves results in the `bert_results` folder\n",
    "\n",
    "2. **Controls how learning happens**:\n",
    "   - Starts with small learning steps (`2e-5` rate)\n",
    "   - Gradually warms up the learning process (first 10% of training)\n",
    "   - Prevents overfitting with small penalties (`weight_decay`)\n",
    "\n",
    "3. **Smart training features**:\n",
    "   - Checks performance after each epoch\n",
    "   - Only keeps the 2 best model versions\n",
    "   - Uses the model with best F1 score (good for imbalanced data)\n",
    "   - Uses faster GPU math if available (`fp16`)\n",
    "\n",
    "## Why these settings matter:\n",
    "- The small learning rate helps BERT adjust carefully without breaking what it already knows\n",
    "- The batch size balances speed and memory usage\n",
    "- Saving only the best models prevents wasting disk space\n",
    "\n",
    "## Good for:\n",
    "- Training sentiment analysis models\n",
    "- Situations where you want balanced performance across all sentiment classes\n",
    "- When you need to train efficiently on limited hardware"
   ]
  },
  {
   "cell_type": "code",
   "execution_count": 43,
   "id": "230b1920",
   "metadata": {},
   "outputs": [],
   "source": [
    "from transformers.training_args import TrainingArguments\n",
    "\n",
    "batch = 16\n",
    "epochs = 4\n",
    "\n",
    "args = TrainingArguments(\n",
    "    output_dir='./bert_results',\n",
    "    eval_strategy='epoch',  \n",
    "    save_strategy='epoch',\n",
    "    learning_rate=2e-5,\n",
    "    per_device_train_batch_size=batch,\n",
    "    per_device_eval_batch_size=batch,\n",
    "    num_train_epochs=epochs,\n",
    "    weight_decay=0.01,\n",
    "    warmup_ratio=0.1,\n",
    "    load_best_model_at_end=True,\n",
    "    metric_for_best_model='f1',\n",
    "    greater_is_better=True,\n",
    "    seed=SEED,\n",
    "    fp16=torch.cuda.is_available(),\n",
    "    logging_steps=100,\n",
    "    save_total_limit=2\n",
    ")"
   ]
  },
  {
   "cell_type": "code",
   "execution_count": 44,
   "id": "33c5493f",
   "metadata": {},
   "outputs": [
    {
     "data": {
      "text/html": [
       "\n",
       "    <div>\n",
       "      \n",
       "      <progress value='6184' max='6184' style='width:300px; height:20px; vertical-align: middle;'></progress>\n",
       "      [6184/6184 3:41:51, Epoch 4/4]\n",
       "    </div>\n",
       "    <table border=\"1\" class=\"dataframe\">\n",
       "  <thead>\n",
       " <tr style=\"text-align: left;\">\n",
       "      <th>Epoch</th>\n",
       "      <th>Training Loss</th>\n",
       "      <th>Validation Loss</th>\n",
       "      <th>Accuracy</th>\n",
       "      <th>Precision</th>\n",
       "      <th>Recall</th>\n",
       "      <th>F1</th>\n",
       "    </tr>\n",
       "  </thead>\n",
       "  <tbody>\n",
       "    <tr>\n",
       "      <td>1</td>\n",
       "      <td>0.530300</td>\n",
       "      <td>0.519904</td>\n",
       "      <td>0.790029</td>\n",
       "      <td>0.792378</td>\n",
       "      <td>0.790029</td>\n",
       "      <td>0.790454</td>\n",
       "    </tr>\n",
       "    <tr>\n",
       "      <td>2</td>\n",
       "      <td>0.418200</td>\n",
       "      <td>0.514446</td>\n",
       "      <td>0.796579</td>\n",
       "      <td>0.797397</td>\n",
       "      <td>0.796579</td>\n",
       "      <td>0.796620</td>\n",
       "    </tr>\n",
       "    <tr>\n",
       "      <td>3</td>\n",
       "      <td>0.293200</td>\n",
       "      <td>0.644283</td>\n",
       "      <td>0.789665</td>\n",
       "      <td>0.790478</td>\n",
       "      <td>0.789665</td>\n",
       "      <td>0.789975</td>\n",
       "    </tr>\n",
       "    <tr>\n",
       "      <td>4</td>\n",
       "      <td>0.168100</td>\n",
       "      <td>0.822126</td>\n",
       "      <td>0.792213</td>\n",
       "      <td>0.792898</td>\n",
       "      <td>0.792213</td>\n",
       "      <td>0.792259</td>\n",
       "    </tr>\n",
       "  </tbody>\n",
       "</table><p>"
      ],
      "text/plain": [
       "<IPython.core.display.HTML object>"
      ]
     },
     "metadata": {},
     "output_type": "display_data"
    },
    {
     "data": {
      "text/plain": [
       "TrainOutput(global_step=6184, training_loss=0.3920040732059257, metrics={'train_runtime': 13317.2298, 'train_samples_per_second': 7.429, 'train_steps_per_second': 0.464, 'total_flos': 6507321047248896.0, 'train_loss': 0.3920040732059257, 'epoch': 4.0})"
      ]
     },
     "execution_count": 44,
     "metadata": {},
     "output_type": "execute_result"
    }
   ],
   "source": [
    "trainer = Trainer(\n",
    "    model=model,\n",
    "    args=args,\n",
    "    train_dataset=train_ds,\n",
    "    eval_dataset=val_ds,\n",
    "    data_collator=data_collator,\n",
    "    compute_metrics=compute_metrics,\n",
    "    callbacks=[EarlyStoppingCallback(early_stopping_patience=2)]\n",
    ")\n",
    "\n",
    "trainer.train()\n"
   ]
  },
  {
   "cell_type": "code",
   "execution_count": 45,
   "id": "d354ccc7",
   "metadata": {},
   "outputs": [
    {
     "name": "stdout",
     "output_type": "stream",
     "text": [
      "\n",
      "Loading best model on validation...\n"
     ]
    },
    {
     "data": {
      "text/html": [],
      "text/plain": [
       "<IPython.core.display.HTML object>"
      ]
     },
     "metadata": {},
     "output_type": "display_data"
    },
    {
     "name": "stdout",
     "output_type": "stream",
     "text": [
      "              precision    recall  f1-score   support\n",
      "\n",
      "    negative       0.76      0.82      0.79      1001\n",
      "     neutral       0.77      0.74      0.76      1430\n",
      "    positive       0.86      0.83      0.84      1103\n",
      "\n",
      "    accuracy                           0.79      3534\n",
      "   macro avg       0.79      0.80      0.80      3534\n",
      "weighted avg       0.79      0.79      0.79      3534\n",
      "\n"
     ]
    }
   ],
   "source": [
    "\n",
    "print(\"\\nLoading best model on validation...\")\n",
    "trainer.model.eval()\n",
    "test_output = trainer.predict(test_ds)\n",
    "test_preds = test_output.predictions.argmax(axis=-1)\n",
    "true_labels = df_test['label'].to_numpy()\n",
    "\n",
    "print(classification_report(true_labels, test_preds, target_names=['negative','neutral','positive']))\n"
   ]
  },
  {
   "cell_type": "code",
   "execution_count": 46,
   "id": "f3aa6fac",
   "metadata": {},
   "outputs": [
    {
     "data": {
      "image/png": "[encoded data removed]",
      "text/plain": [
       "<Figure size 600x500 with 2 Axes>"
      ]
     },
     "metadata": {},
     "output_type": "display_data"
    }
   ],
   "source": [
    "\n",
    "cm = confusion_matrix(true_labels, test_preds)\n",
    "plt.figure(figsize=(6,5))\n",
    "sns.heatmap(cm, annot=True, fmt='d', cmap='Blues',\n",
    "            xticklabels=['negative','neutral','positive'],\n",
    "            yticklabels=['negative','neutral','positive'])\n",
    "plt.xlabel('Predicted'); plt.ylabel('True'); plt.title('Confusion Matrix'); plt.show()\n"
   ]
  }
 ],
 "metadata": {
  "kernelspec": {
   "display_name": "Python 3 (ipykernel)",
   "language": "python",
   "name": "python3"
  },
  "language_info": {
   "codemirror_mode": {
    "name": "ipython",
    "version": 3
   },
   "file_extension": ".py",
   "mimetype": "text/x-python",
   "name": "python",
   "nbconvert_exporter": "python",
   "pygments_lexer": "ipython3",
   "version": "3.11.10"
  }
 },
 "nbformat": 4,
 "nbformat_minor": 5
}
